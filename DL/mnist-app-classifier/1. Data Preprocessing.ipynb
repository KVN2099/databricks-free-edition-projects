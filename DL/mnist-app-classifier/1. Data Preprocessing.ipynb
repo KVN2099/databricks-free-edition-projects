{
 "cells": [
  {
   "cell_type": "code",
   "execution_count": null,
   "id": "6ea0ebf7",
   "metadata": {},
   "outputs": [],
   "source": [
    "catalog = dbutils.widgets.get(\"catalog\")\n",
    "schema = dbutils.widgets.get(\"schema\")\n",
    "volume = dbutils.widgets.get(\"volume\")\n",
    "\n",
    "print(f\"Catalog: {catalog}\")\n",
    "print(f\"Schema: {schema}\")\n",
    "print(f\"Volume: {volume}\")"
   ]
  },
  {
   "cell_type": "code",
   "execution_count": null,
   "id": "b200e97c",
   "metadata": {},
   "outputs": [],
   "source": [
    "from keras.datasets import mnist\n",
    "import numpy as np\n",
    "\n",
    "# Load MNIST dataset\n",
    "(x_train, y_train), (x_test, y_test) = mnist.load_data()\n",
    "\n",
    "# Define volume path\n",
    "volume_path = f\"/Volumes/{catalog}/{schema}/{volume}\"\n",
    "\n",
    "# Save arrays as .npy files\n",
    "np.save(f\"{volume_path}/x_train.npy\", x_train)\n",
    "np.save(f\"{volume_path}/y_train.npy\", y_train)\n",
    "np.save(f\"{volume_path}/x_test.npy\", x_test)\n",
    "np.save(f\"{volume_path}/y_test.npy\", y_test)\n",
    "\n",
    "print(\"MNIST dataset saved to Unity Catalog volume\")"
   ]
  }
 ],
 "metadata": {
  "language_info": {
   "name": "python"
  }
 },
 "nbformat": 4,
 "nbformat_minor": 5
}
