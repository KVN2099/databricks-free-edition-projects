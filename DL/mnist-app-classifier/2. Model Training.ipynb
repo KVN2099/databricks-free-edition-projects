{
 "cells": [
  {
   "cell_type": "markdown",
   "metadata": {
    "application/vnd.databricks.v1+cell": {
     "cellMetadata": {},
     "inputWidgets": {},
     "nuid": "c9949ce5-b70b-42c0-a3e6-e5067e291e54",
     "showTitle": false,
     "tableResultSettingsMap": {},
     "title": ""
    }
   },
   "source": [
    "# MNIST Classification with Keras on Databricks (Serverless CPU)\n",
    "\n",
    "This notebook trains a simple Keras model on the MNIST digits dataset on Databricks Serverless CPU, with MLflow tracking. It attempts to load the dataset from a Unity Catalog volume, falling back to the built-in Keras MNIST loader if not found.\n",
    "\n",
    "- Uses MLflow for experiment and run tracking, and logs the trained model\n",
    "- Assumes MNIST is stored as an `mnist.npz` file in a Unity Catalog volume at `/Volumes/<catalog>/<schema>/<volume>/mnist.npz`\n",
    "- Designed to be lightweight for CPU-only environments\n"
   ]
  },
  {
   "cell_type": "code",
   "execution_count": 0,
   "metadata": {
    "application/vnd.databricks.v1+cell": {
     "cellMetadata": {},
     "inputWidgets": {},
     "nuid": "3b2f7841-013f-4501-ad1b-0235eaf66820",
     "showTitle": false,
     "tableResultSettingsMap": {},
     "title": ""
    }
   },
   "outputs": [],
   "source": [
    "CATALOG = dbutils.widgets.get(\"catalog\")\n",
    "SCHEMA = dbutils.widgets.get(\"schema\")\n",
    "EXPERIMENT_PATH = dbutils.widgets.get(\"exp_path\")\n",
    "VOLUME = dbutils.widgets.get(\"volume\")"
   ]
  },
  {
   "cell_type": "code",
   "execution_count": 0,
   "metadata": {
    "application/vnd.databricks.v1+cell": {
     "cellMetadata": {},
     "inputWidgets": {},
     "nuid": "2d02abc6-a775-41c6-a123-67b655be4976",
     "showTitle": false,
     "tableResultSettingsMap": {},
     "title": ""
    }
   },
   "outputs": [],
   "source": [
    "# Databricks and environment setup\n",
    "# - Configure MLflow experiment location\n",
    "# - Set TensorFlow log level for cleaner output\n",
    "# - Import core libraries\n",
    "\n",
    "import os\n",
    "import time\n",
    "from typing import Tuple\n",
    "\n",
    "import mlflow\n",
    "import tensorflow as tf\n",
    "from tensorflow import keras\n",
    "from tensorflow.keras import layers\n",
    "\n",
    "# Reduce TF verbosity for CPU runs\n",
    "os.environ.setdefault(\"TF_CPP_MIN_LOG_LEVEL\", \"2\")  # 0=all,1=info,2=warning,3=error\n",
    "\n",
    "# Reproducibility\n",
    "SEED = 2025\n",
    "keras.utils.set_random_seed(SEED)\n",
    "\n",
    "mlflow.set_experiment(EXPERIMENT_PATH)\n",
    "\n",
    "print(f\"TF version: {tf.__version__}\")\n",
    "print(f\"Keras version: {keras.__version__}\")\n",
    "print(f\"MLflow experiment: {EXPERIMENT_PATH}\")\n",
    "print(f\"MLflow tracking URI: {mlflow.get_tracking_uri()}\")\n"
   ]
  },
  {
   "cell_type": "code",
   "execution_count": 0,
   "metadata": {
    "application/vnd.databricks.v1+cell": {
     "cellMetadata": {},
     "inputWidgets": {},
     "nuid": "1a377380-52cb-4252-af1b-3cb84e5bcca4",
     "showTitle": false,
     "tableResultSettingsMap": {},
     "title": ""
    }
   },
   "outputs": [],
   "source": [
    "# Data loading from Unity Catalog Volume with fallback to Keras loader\n",
    "# - Expected file: /Volumes/<catalog>/<schema>/<volume>/mnist.npz\n",
    "# - Provides clear errors if UC path is misconfigured\n",
    "\n",
    "import numpy as np\n",
    "\n",
    "# Configure the UC Volume path pieces\n",
    "CATALOG = os.environ.get(\"CATALOG\", \"main\")\n",
    "SCHEMA = os.environ.get(\"SCHEMA\", \"default\")\n",
    "VOLUME = os.environ.get(\"VOLUME\", \"datasets\")\n",
    "UC_FILE = os.environ.get(\"UC_FILE\", \"mnist.npz\")\n",
    "\n",
    "UC_DATA_PATH = f\"/Volumes/{CATALOG}/{SCHEMA}/{VOLUME}/{UC_FILE}\"\n",
    "print(f\"Attempting to load MNIST from: {UC_DATA_PATH}\")\n",
    "\n",
    "def _load_from_uc_npz(path: str):\n",
    "    if not os.path.exists(path):\n",
    "        raise FileNotFoundError(f\"Unity Catalog file not found at {path}\")\n",
    "    with np.load(path) as data:\n",
    "        x_train = data[\"x_train\"]\n",
    "        y_train = data[\"y_train\"]\n",
    "        x_test = data[\"x_test\"]\n",
    "        y_test = data[\"y_test\"]\n",
    "    return (x_train, y_train), (x_test, y_test)\n",
    "\n",
    "\n",
    "try:\n",
    "    (x_train, y_train), (x_test, y_test) = _load_from_uc_npz(UC_DATA_PATH)\n",
    "    source = \"unity_catalog\"\n",
    "except Exception as e:\n",
    "    print(f\"UC load failed: {e}. Falling back to Keras loader...\")\n",
    "    (x_train, y_train), (x_test, y_test) = keras.datasets.mnist.load_data()\n",
    "    source = \"keras_builtin\"\n",
    "\n",
    "print(f\"Loaded MNIST from: {source}\")\n",
    "print(f\"Train shape: {x_train.shape}, Test shape: {x_test.shape}\")\n",
    "\n",
    "# Normalize to [0,1] and reshape to vectors for MLP\n",
    "x_train = x_train.astype(\"float32\") / 255.0\n",
    "x_test = x_test.astype(\"float32\") / 255.0\n",
    "\n",
    "# Flatten 28x28 -> 784\n",
    "x_train = x_train.reshape((-1, 28 * 28))\n",
    "x_test = x_test.reshape((-1, 28 * 28))\n",
    "\n",
    "num_classes = 10\n",
    "\n",
    "# One-hot encoding labels for categorical crossentropy\n",
    "y_train_categorical = keras.utils.to_categorical(y_train, num_classes)\n",
    "y_test_categorical = keras.utils.to_categorical(y_test, num_classes)\n"
   ]
  },
  {
   "cell_type": "code",
   "execution_count": 0,
   "metadata": {
    "application/vnd.databricks.v1+cell": {
     "cellMetadata": {},
     "inputWidgets": {},
     "nuid": "11314924-873e-4747-b0fe-210fa01309b6",
     "showTitle": false,
     "tableResultSettingsMap": {},
     "title": ""
    }
   },
   "outputs": [],
   "source": [
    "# Build a simple MLP model for MNIST classification\n",
    "# - Lightweight architecture suitable for CPU inference and training\n",
    "\n",
    "HIDDEN_UNITS = 256\n",
    "DROPOUT_RATE = 0.2\n",
    "LEARNING_RATE = 1e-3\n",
    "\n",
    "model = keras.Sequential([\n",
    "    layers.Input(shape=(28 * 28,)),\n",
    "    layers.Dense(HIDDEN_UNITS, activation=\"relu\"),\n",
    "    layers.Dropout(DROPOUT_RATE),\n",
    "    layers.Dense(HIDDEN_UNITS // 2, activation=\"relu\"),\n",
    "    layers.Dropout(DROPOUT_RATE),\n",
    "    layers.Dense(num_classes, activation=\"softmax\"),\n",
    "])\n",
    "\n",
    "model.compile(\n",
    "    optimizer=keras.optimizers.Adam(learning_rate=LEARNING_RATE),\n",
    "    loss=\"categorical_crossentropy\",\n",
    "    metrics=[\"accuracy\"],\n",
    ")\n",
    "\n",
    "model.summary()\n"
   ]
  },
  {
   "cell_type": "code",
   "execution_count": 0,
   "metadata": {
    "application/vnd.databricks.v1+cell": {
     "cellMetadata": {},
     "inputWidgets": {},
     "nuid": "8aee962a-5469-4473-8de7-923874a430f0",
     "showTitle": false,
     "tableResultSettingsMap": {},
     "title": ""
    }
   },
   "outputs": [],
   "source": [
    "# Train model with MLflow autologging\n",
    "# - Tracks params, metrics, and artifacts automatically\n",
    "# - Logs the Keras model to MLflow\n",
    "\n",
    "mlflow.tensorflow.autolog()\n",
    "\n",
    "BATCH_SIZE = 128\n",
    "EPOCHS = 5  # Keep small for CPU demo\n",
    "VALIDATION_SPLIT = 0.1\n",
    "\n",
    "run_name = f\"mnist-keras-mlp-cpu-{int(time.time())}\"\n",
    "\n",
    "with mlflow.start_run(run_name=run_name):\n",
    "    # Optional manual params alongside autolog\n",
    "    mlflow.log_params({\n",
    "        \"hidden_units\": HIDDEN_UNITS,\n",
    "        \"dropout_rate\": DROPOUT_RATE,\n",
    "        \"learning_rate\": LEARNING_RATE,\n",
    "        \"batch_size\": BATCH_SIZE,\n",
    "        \"epochs\": EPOCHS,\n",
    "        \"validation_split\": VALIDATION_SPLIT,\n",
    "        \"data_source\": source,\n",
    "        \"seed\": SEED,\n",
    "    })\n",
    "\n",
    "    history = model.fit(\n",
    "        x_train,\n",
    "        y_train_categorical,\n",
    "        validation_split=VALIDATION_SPLIT,\n",
    "        batch_size=BATCH_SIZE,\n",
    "        epochs=EPOCHS,\n",
    "        verbose=2,\n",
    "    )\n",
    "\n",
    "    # Explicitly log the model with a signature to ease serving\n",
    "    input_signature = mlflow.models.signature.infer_signature(\n",
    "        x_train[:100],\n",
    "        model.predict(x_train[:100], verbose=0),\n",
    "    )\n",
    "    mlflow.keras.log_model(\n",
    "        model,\n",
    "        artifact_path=\"model\",\n",
    "        signature=input_signature,\n",
    "        registered_model_name=None,  # set if you want to register in Model Registry\n",
    "    )\n",
    "\n",
    "print(\"Training completed.\")\n"
   ]
  },
  {
   "cell_type": "code",
   "execution_count": 0,
   "metadata": {
    "application/vnd.databricks.v1+cell": {
     "cellMetadata": {},
     "inputWidgets": {},
     "nuid": "6abe2a33-924b-49fa-bbff-b97c6da299ae",
     "showTitle": false,
     "tableResultSettingsMap": {},
     "title": ""
    }
   },
   "outputs": [],
   "source": [
    "# Evaluate on the test set and log final metrics\n",
    "\n",
    "with mlflow.start_run(run_name=f\"mnist-eval-{int(time.time())}\"):\n",
    "    test_loss, test_acc = model.evaluate(x_test, y_test_categorical, verbose=0)\n",
    "    mlflow.log_metrics({\"test_loss\": float(test_loss), \"test_accuracy\": float(test_acc)})\n",
    "\n",
    "    # Log a small batch of predictions as an artifact for inspection\n",
    "    sample_images = x_test[:16]\n",
    "    sample_labels = y_test[:16]\n",
    "    preds = model.predict(sample_images, verbose=0)\n",
    "    pred_labels = np.argmax(preds, axis=1)\n",
    "\n",
    "    # Create a compact CSV for quick checking\n",
    "    import pandas as pd\n",
    "\n",
    "    df_pred = pd.DataFrame({\n",
    "        \"label\": sample_labels,\n",
    "        \"pred\": pred_labels,\n",
    "    })\n",
    "    tmp_csv_path = \"/tmp/mnist_sample_preds.csv\"\n",
    "    df_pred.to_csv(tmp_csv_path, index=False)\n",
    "    mlflow.log_artifact(tmp_csv_path, artifact_path=\"eval\")\n",
    "\n",
    "print({\"test_accuracy\": float(test_acc), \"test_loss\": float(test_loss)})\n"
   ]
  }
 ],
 "metadata": {
  "application/vnd.databricks.v1+notebook": {
   "computePreferences": null,
   "dashboards": [],
   "environmentMetadata": null,
   "inputWidgetPreferences": null,
   "language": "python",
   "notebookMetadata": {
    "pythonIndentUnit": 4
   },
   "notebookName": "2. Model Training",
   "widgets": {
    "catalog": {
     "currentValue": "workspace",
     "nuid": "24d7c63c-b63e-4e74-a5c4-9f5faa3973a7",
     "typedWidgetInfo": {
      "autoCreated": false,
      "defaultValue": "",
      "label": "",
      "name": "catalog",
      "options": {
       "widgetDisplayType": "Text",
       "validationRegex": null
      },
      "parameterDataType": "String"
     },
     "widgetInfo": {
      "widgetType": "text",
      "defaultValue": "",
      "label": "",
      "name": "catalog",
      "options": {
       "widgetType": "text",
       "autoCreated": false,
       "validationRegex": null
      }
     }
    },
    "exp_path": {
     "currentValue": "/Shared/MLflow Experiments/MNIST",
     "nuid": "04cf92b1-dd1f-4594-baa8-6eca554ce4e5",
     "typedWidgetInfo": {
      "autoCreated": false,
      "defaultValue": "",
      "label": "",
      "name": "exp_path",
      "options": {
       "widgetDisplayType": "Text",
       "validationRegex": null
      },
      "parameterDataType": "String"
     },
     "widgetInfo": {
      "widgetType": "text",
      "defaultValue": "",
      "label": "",
      "name": "exp_path",
      "options": {
       "widgetType": "text",
       "autoCreated": false,
       "validationRegex": null
      }
     }
    },
    "schema": {
     "currentValue": "mnist",
     "nuid": "cf130228-b63e-4068-9442-49aec2c7b6ce",
     "typedWidgetInfo": {
      "autoCreated": false,
      "defaultValue": "",
      "label": "",
      "name": "schema",
      "options": {
       "widgetDisplayType": "Text",
       "validationRegex": null
      },
      "parameterDataType": "String"
     },
     "widgetInfo": {
      "widgetType": "text",
      "defaultValue": "",
      "label": "",
      "name": "schema",
      "options": {
       "widgetType": "text",
       "autoCreated": false,
       "validationRegex": null
      }
     }
    },
    "volume": {
     "currentValue": "mnist-images",
     "nuid": "90578d2e-6b14-4aa1-b412-c8667993fbc9",
     "typedWidgetInfo": {
      "autoCreated": false,
      "defaultValue": "",
      "label": "",
      "name": "volume",
      "options": {
       "widgetDisplayType": "Text",
       "validationRegex": null
      },
      "parameterDataType": "String"
     },
     "widgetInfo": {
      "widgetType": "text",
      "defaultValue": "",
      "label": "",
      "name": "volume",
      "options": {
       "widgetType": "text",
       "autoCreated": false,
       "validationRegex": null
      }
     }
    }
   }
  },
  "language_info": {
   "name": "python"
  }
 },
 "nbformat": 4,
 "nbformat_minor": 0
}
