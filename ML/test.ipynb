{
 "cells": [
  {
   "cell_type": "code",
   "execution_count": null,
   "id": "69283480",
   "metadata": {
    "vscode": {
     "languageId": "plaintext"
    }
   },
   "outputs": [],
   "source": [
    "from pyspark.sql import SparkSession\n",
    "from common.import_kaggle_dataset import KaggleDatasetImporter\n",
    "\n",
    "spark = SparkSession.builder.getOrCreate()\n",
    "\n",
    "importer = KaggleDatasetImporter(spark)  # enable_change_data_feed=True by default\n",
    "df = importer.import_to_delta(\n",
    "    kaggle_dataset_id=\"owner/dataset\",\n",
    "    kaggle_dataset_path=\"files/data.csv\",\n",
    "    table_name=\"schema.table_name\",\n",
    "    mode=\"overwrite\",                       # optional\n",
    "    columns_to_drop=(\"Unnamed: 6\",),        # optional\n",
    "    pandas_kwargs={\"dtype\": {\"col\": \"string\"}},  # optional\n",
    ")"
   ]
  }
 ],
 "metadata": {
  "language_info": {
   "name": "python"
  }
 },
 "nbformat": 4,
 "nbformat_minor": 5
}
