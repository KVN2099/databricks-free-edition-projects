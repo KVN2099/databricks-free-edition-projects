{
 "cells": [
  {
   "cell_type": "code",
   "execution_count": 0,
   "metadata": {
    "application/vnd.databricks.v1+cell": {
     "cellMetadata": {
      "byteLimit": 2048000,
      "rowLimit": 10000
     },
     "inputWidgets": {},
     "nuid": "0c0d41ba-e37e-486a-b104-b375f5928cd7",
     "showTitle": false,
     "tableResultSettingsMap": {},
     "title": ""
    }
   },
   "outputs": [],
   "source": [
    "# 1. Read variables\n",
    "catalog = dbutils.widgets.get(\"catalog\")\n",
    "schema = dbutils.widgets.get(\"schema\")\n",
    "dataset = dbutils.widgets.get(\"dataset\")\n",
    "\n",
    "path = f\"{catalog}.{schema}.{dataset}\"\n",
    "print(f\"Iris Dataset Path: {path}\")\n",
    "\n",
    "kaggle_dataset_id = dbutils.widgets.get(\"kaggle_dataset_id\")\n",
    "kaggle_dataset_path = dbutils.widgets.get(\"kaggle_dataset_path\")"
   ]
  },
  {
   "cell_type": "code",
   "execution_count": 0,
   "metadata": {
    "application/vnd.databricks.v1+cell": {
     "cellMetadata": {
      "byteLimit": 2048000,
      "rowLimit": 10000
     },
     "inputWidgets": {},
     "nuid": "52a93b50-c4aa-4416-bbe1-3cb3676a8ac1",
     "showTitle": false,
     "tableResultSettingsMap": {},
     "title": ""
    }
   },
   "outputs": [],
   "source": [
    "import kagglehub\n",
    "from kagglehub import KaggleDatasetAdapter\n",
    "from pyspark.sql.functions import col\n",
    "\n",
    "# 2. Load the Iris dataset from KaggleHub\n",
    "raw_df = kagglehub.dataset_load(\n",
    "  KaggleDatasetAdapter.PANDAS,\n",
    "  kaggle_dataset_id,\n",
    "  kaggle_dataset_path\n",
    ")\n",
    "\n",
    "iris_df = spark.createDataFrame(raw_df)\n",
    "\n",
    "# 3. Inspect and preprocess (optional)\n",
    "#    Rename columns to snake_case and cast numeric types\n",
    "iris_clean = (\n",
    "    iris_df\n",
    "    .withColumnRenamed(\"Id\", \"id\")\n",
    "    .withColumnRenamed(\"SepalLengthCm\", \"sepal_length\")\n",
    "    .withColumnRenamed(\"SepalWidthCm\", \"sepal_width\")\n",
    "    .withColumnRenamed(\"PetalLengthCm\", \"petal_length\")\n",
    "    .withColumnRenamed(\"PetalWidthCm\", \"petal_width\")\n",
    "    .withColumnRenamed(\"Species\", \"species\")\n",
    "    .withColumn(\"sepal_length\", col(\"sepal_length\").cast(\"double\"))\n",
    "    .withColumn(\"sepal_width\",  col(\"sepal_width\").cast(\"double\"))\n",
    "    .withColumn(\"petal_length\", col(\"petal_length\").cast(\"double\"))\n",
    "    .withColumn(\"petal_width\",  col(\"petal_width\").cast(\"double\"))\n",
    ")\n",
    "\n",
    "# 4. Save table to UC\n",
    "iris_clean.write.format(\"delta\").mode(\"overwrite\").saveAsTable(path)\n",
    "\n",
    "constraint_name = f\"{dataset}_pk\"\n",
    "drop_sql = f\"ALTER TABLE {path} DROP CONSTRAINT {constraint_name}\"\n",
    "try:\n",
    "    spark.sql(drop_sql)\n",
    "    print(f\"Dropped existing constraint {constraint_name}\")\n",
    "except Exception:\n",
    "    pass\n",
    "\n",
    "# 3. Enforce NOT NULL on the key column\n",
    "spark.sql(f\"ALTER TABLE {path} ALTER COLUMN id SET NOT NULL\")\n",
    "\n",
    "# 4. Add the primary‐key constraint\n",
    "add_sql = f\"ALTER TABLE {path} ADD CONSTRAINT {constraint_name} PRIMARY KEY(id)\"\n",
    "spark.sql(add_sql)\n",
    "print(f\"Added primary‐key constraint {constraint_name}\")"
   ]
  }
 ],
 "metadata": {
  "application/vnd.databricks.v1+notebook": {
   "computePreferences": {
    "hardware": {
     "accelerator": null,
     "gpuPoolId": null,
     "memory": null
    }
   },
   "dashboards": [],
   "environmentMetadata": {
    "base_environment": "",
    "dependencies": [
     "kagglehub",
     "databricks-feature-engineering"
    ],
    "environment_version": "2"
   },
   "inputWidgetPreferences": null,
   "language": "python",
   "notebookMetadata": {
    "pythonIndentUnit": 4
   },
   "notebookName": "1. Feature Store",
   "widgets": {
    "catalog": {
     "currentValue": "workspace",
     "nuid": "338a5f5d-ea02-4d49-8cd9-f4dc5ef11faf",
     "typedWidgetInfo": {
      "autoCreated": false,
      "defaultValue": "",
      "label": "",
      "name": "catalog",
      "options": {
       "widgetDisplayType": "Text",
       "validationRegex": null
      },
      "parameterDataType": "String"
     },
     "widgetInfo": {
      "widgetType": "text",
      "defaultValue": "",
      "label": "",
      "name": "catalog",
      "options": {
       "widgetType": "text",
       "autoCreated": false,
       "validationRegex": null
      }
     }
    },
    "dataset": {
     "currentValue": "iris_species",
     "nuid": "e0045a3d-06ca-466a-b921-16833ca40ffd",
     "typedWidgetInfo": {
      "autoCreated": false,
      "defaultValue": "",
      "label": "",
      "name": "dataset",
      "options": {
       "widgetDisplayType": "Text",
       "validationRegex": null
      },
      "parameterDataType": "String"
     },
     "widgetInfo": {
      "widgetType": "text",
      "defaultValue": "",
      "label": "",
      "name": "dataset",
      "options": {
       "widgetType": "text",
       "autoCreated": false,
       "validationRegex": null
      }
     }
    },
    "kaggle_dataset_id": {
     "currentValue": "uciml/iris",
     "nuid": "fbf3900a-db88-4503-9e48-48721bcfd665",
     "typedWidgetInfo": {
      "autoCreated": false,
      "defaultValue": "",
      "label": "",
      "name": "kaggle_dataset_id",
      "options": {
       "widgetDisplayType": "Text",
       "validationRegex": null
      },
      "parameterDataType": "String"
     },
     "widgetInfo": {
      "widgetType": "text",
      "defaultValue": "",
      "label": "",
      "name": "kaggle_dataset_id",
      "options": {
       "widgetType": "text",
       "autoCreated": false,
       "validationRegex": null
      }
     }
    },
    "kaggle_dataset_path": {
     "currentValue": "Iris.csv",
     "nuid": "32a6ca53-d83b-473b-a733-61d6e8359506",
     "typedWidgetInfo": {
      "autoCreated": false,
      "defaultValue": "",
      "label": "",
      "name": "kaggle_dataset_path",
      "options": {
       "widgetDisplayType": "Text",
       "validationRegex": null
      },
      "parameterDataType": "String"
     },
     "widgetInfo": {
      "widgetType": "text",
      "defaultValue": "",
      "label": "",
      "name": "kaggle_dataset_path",
      "options": {
       "widgetType": "text",
       "autoCreated": false,
       "validationRegex": null
      }
     }
    },
    "schema": {
     "currentValue": "iris",
     "nuid": "adb41627-ebc7-4f1e-bdb0-3d479934b807",
     "typedWidgetInfo": {
      "autoCreated": false,
      "defaultValue": "",
      "label": "",
      "name": "schema",
      "options": {
       "widgetDisplayType": "Text",
       "validationRegex": null
      },
      "parameterDataType": "String"
     },
     "widgetInfo": {
      "widgetType": "text",
      "defaultValue": "",
      "label": "",
      "name": "schema",
      "options": {
       "widgetType": "text",
       "autoCreated": false,
       "validationRegex": null
      }
     }
    }
   }
  },
  "kernelspec": {
   "display_name": "Python 3",
   "language": "python",
   "name": "python3"
  },
  "language_info": {
   "name": "python"
  }
 },
 "nbformat": 4,
 "nbformat_minor": 0
}
