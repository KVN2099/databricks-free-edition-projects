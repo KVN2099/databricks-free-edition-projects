{
 "cells": [
  {
   "cell_type": "code",
   "execution_count": 0,
   "metadata": {
    "application/vnd.databricks.v1+cell": {
     "cellMetadata": {
      "byteLimit": 2048000,
      "rowLimit": 10000
     },
     "inputWidgets": {},
     "nuid": "be8f8c29-9f18-4d1b-aefa-676923064a3a",
     "showTitle": false,
     "tableResultSettingsMap": {},
     "title": ""
    }
   },
   "outputs": [],
   "source": [
    "# 1. Read variables\n",
    "catalog = dbutils.widgets.get(\"catalog\")\n",
    "schema = dbutils.widgets.get(\"schema\")\n",
    "dataset = dbutils.widgets.get(\"dataset\")\n",
    "\n",
    "path = f\"{catalog}.{schema}.{dataset}\"\n",
    "print(f\"Iris Dataset Path: {path}\")"
   ]
  },
  {
   "cell_type": "code",
   "execution_count": 0,
   "metadata": {
    "application/vnd.databricks.v1+cell": {
     "cellMetadata": {
      "byteLimit": 2048000,
      "rowLimit": 10000
     },
     "inputWidgets": {},
     "nuid": "d7ac2608-a64b-4175-8e99-fc6ad48f11cd",
     "showTitle": false,
     "tableResultSettingsMap": {},
     "title": ""
    }
   },
   "outputs": [],
   "source": [
    "# Databricks notebook source\n",
    "# Setup: libraries, MLflow experiment/registry, and config\n",
    "import os\n",
    "import uuid\n",
    "from dataclasses import dataclass\n",
    "\n",
    "import pandas as pd\n",
    "import numpy as np\n",
    "\n",
    "import mlflow\n",
    "from mlflow import sklearn as mlflow_sklearn\n",
    "from sklearn.ensemble import RandomForestClassifier\n",
    "from sklearn.metrics import f1_score, classification_report\n",
    "from sklearn.model_selection import train_test_split\n",
    "\n",
    "# Databricks feature engineering\n",
    "from databricks.feature_engineering import FeatureEngineeringClient\n",
    "\n",
    "# Config\n",
    "@dataclass\n",
    "class Config:\n",
    "    # Unity Catalog table with Iris data\n",
    "    source_table: str = path\n",
    "    # Primary key present in the table (see attached schema screenshot)\n",
    "    primary_key: str = \"id\"\n",
    "    # Target column name\n",
    "    target_col: str = \"species\"\n",
    "    # Registered model name in Unity Catalog\n",
    "    registered_model: str = f\"{catalog}.{schema}.iris_rf_classifier\"\n",
    "    # MLflow experiment path (use a workspace path so it shows in UI)\n",
    "    experiment_path: str = \"/Shared/MLflow Experiments/iris_feature_store_demo\"\n",
    "\n",
    "CFG = Config()\n",
    "\n",
    "# Point MLflow to the desired experiment\n",
    "mlflow.set_experiment(CFG.experiment_path)\n",
    "\n",
    "# Initialize Feature Engineering client\n",
    "fe = FeatureEngineeringClient()\n",
    "\n",
    "print(f\"Experiment set to: {mlflow.get_experiment_by_name(CFG.experiment_path).experiment_id}\")\n",
    "print(f\"Registered model: {CFG.registered_model}\")\n",
    "\n"
   ]
  },
  {
   "cell_type": "code",
   "execution_count": 0,
   "metadata": {
    "application/vnd.databricks.v1+cell": {
     "cellMetadata": {
      "byteLimit": 2048000,
      "rowLimit": 10000
     },
     "inputWidgets": {},
     "nuid": "08968075-20f8-4bdf-92e4-47e115ace1ca",
     "showTitle": false,
     "tableResultSettingsMap": {},
     "title": ""
    }
   },
   "outputs": [],
   "source": [
    "# Create or use a Feature Engineering feature table for Iris\n",
    "from pyspark.sql import functions as F\n",
    "from pyspark.sql import types as T\n",
    "\n",
    "feature_table_name = CFG.source_table\n",
    "\n",
    "# Create a managed feature table if it doesn't exist, directly from the source Unity Catalog table\n",
    "# Note: In real projects, you might build features with transformations; here we pass through numeric columns\n",
    "numeric_cols = [\"sepal_length\", \"sepal_width\", \"petal_length\", \"petal_width\"]\n",
    "\n",
    "source_df = spark.read.table(CFG.source_table).select(CFG.primary_key, *numeric_cols, CFG.target_col)\n",
    "\n",
    "from databricks.feature_engineering import FeatureLookup\n",
    "\n",
    "# Build a training set from the feature table; label is in the source table\n",
    "feature_lookups = [\n",
    "    FeatureLookup(\n",
    "        table_name=feature_table_name,\n",
    "        lookup_key=CFG.primary_key,\n",
    "        feature_names=numeric_cols,\n",
    "    )\n",
    "]\n",
    "\n",
    "training_set = fe.create_training_set(\n",
    "    df=source_df.select(CFG.primary_key, CFG.target_col),\n",
    "    feature_lookups=feature_lookups,\n",
    "    label=CFG.target_col,\n",
    ")\n",
    "\n",
    "training_pd = training_set.load_df().toPandas()\n",
    "\n",
    "X = training_pd[numeric_cols].astype(float)\n",
    "y = training_pd[CFG.target_col].astype(str)\n",
    "\n",
    "X_train, X_temp, y_train, y_temp = train_test_split(X, y, test_size=0.3, random_state=42, stratify=y)\n",
    "X_val, X_test, y_val, y_test = train_test_split(X_temp, y_temp, test_size=0.5, random_state=42, stratify=y_temp)\n",
    "\n",
    "print(f\"Shapes - train: {X_train.shape}, val: {X_val.shape}, test: {X_test.shape}\")\n",
    "\n"
   ]
  },
  {
   "cell_type": "code",
   "execution_count": 0,
   "metadata": {
    "application/vnd.databricks.v1+cell": {
     "cellMetadata": {
      "byteLimit": 2048000,
      "rowLimit": 10000
     },
     "inputWidgets": {},
     "nuid": "e89e5830-ee4f-42d0-89d2-2dad2031ccbc",
     "showTitle": false,
     "tableResultSettingsMap": {},
     "title": ""
    }
   },
   "outputs": [],
   "source": [
    "# Train with MLflow autolog\n",
    "import json\n",
    "from mlflow.models.signature import infer_signature\n",
    "\n",
    "mlflow.sklearn.autolog(log_models=True)\n",
    "run_params = {\n",
    "    \"n_estimators\": 200,\n",
    "    \"max_depth\": None,\n",
    "    \"random_state\": 42,\n",
    "}\n",
    "\n",
    "with mlflow.start_run(run_name=\"iris_rf_training\") as run:\n",
    "    clf = RandomForestClassifier(**run_params)\n",
    "    clf.fit(X_train, y_train)\n",
    "\n",
    "    # Evaluate on validation\n",
    "    val_preds = clf.predict(X_val)\n",
    "    f1_val = f1_score(y_val, val_preds, average=\"weighted\")\n",
    "\n",
    "    mlflow.log_metric(\"f1_val\", float(f1_val))\n",
    "    mlflow.log_dict({\"numeric_features\": list(X.columns)}, \"features.json\")\n",
    "\n",
    "    # Final test metrics for reporting\n",
    "    test_preds = clf.predict(X_test)\n",
    "    f1_test = f1_score(y_test, test_preds, average=\"weighted\")\n",
    "    mlflow.log_metric(\"f1_test\", float(f1_test))\n",
    "\n",
    "    # Prepare input example and signature to silence warning and improve serving UX\n",
    "    input_example = X_train.iloc[:3]  # small sample\n",
    "    signature = infer_signature(X_train, clf.predict(X_train))\n",
    "\n",
    "    # Log the training set lineage using Feature Engineering client\n",
    "    fe.log_model(\n",
    "        model=clf,\n",
    "        artifact_path=\"model\",\n",
    "        flavor=mlflow_sklearn,\n",
    "        training_set=training_set,\n",
    "        registered_model_name=CFG.registered_model,\n",
    "        input_example=input_example,\n",
    "        signature=signature,\n",
    "    )\n",
    "\n",
    "    latest_model_uri = f\"runs:/{run.info.run_id}/model\"\n",
    "    print(\"Validation F1:\", f1_val, \" Test F1:\", f1_test)\n",
    "    print(\"Model URI:\", latest_model_uri)\n",
    "\n",
    "latest_run = mlflow.last_active_run()\n",
    "latest_run_id = latest_run.info.run_id if latest_run is not None else None\n",
    "print(\"Latest Run:\", latest_run_id)"
   ]
  },
  {
   "cell_type": "code",
   "execution_count": null,
   "metadata": {},
   "outputs": [],
   "source": [
    "# Maintain and use a 'latest' alias to reference the newest version\n",
    "from mlflow.tracking import MlflowClient\n",
    "\n",
    "client = MlflowClient()\n",
    "model_name = CFG.registered_model\n",
    "\n",
    "# Determine the most recently created version by inspecting versions listed under the model\n",
    "# and assign/update the 'latest' alias to that version.\n",
    "versions = client.search_model_versions(f\"name='{model_name}'\")\n",
    "if not versions:\n",
    "    raise RuntimeError(\"No versions found for registered model.\")\n",
    "\n",
    "# Sort by version integer descending\n",
    "versions_sorted = sorted(versions, key=lambda mv: int(mv.version), reverse=True)\n",
    "most_recent = versions_sorted[0]\n",
    "client.set_registered_model_alias(model_name, \"latest\", most_recent.version)\n",
    "print(f\"Alias 'latest' now points to version {most_recent.version}\")\n",
    "\n",
    "# Example of loading by alias (Unity Catalog requires alias-based resolution)\n",
    "latest_model_uri = f\"models:/{model_name}@latest\"\n",
    "print(\"Load model URI by alias:\", latest_model_uri)\n",
    "\n"
   ]
  },
  {
   "cell_type": "code",
   "execution_count": 0,
   "metadata": {
    "application/vnd.databricks.v1+cell": {
     "cellMetadata": {
      "byteLimit": 2048000,
      "rowLimit": 10000
     },
     "inputWidgets": {},
     "nuid": "8f3234c3-9fac-4dc3-a7d0-25fbfce0e790",
     "showTitle": false,
     "tableResultSettingsMap": {},
     "title": ""
    }
   },
   "outputs": [],
   "source": [
    "# Compare latest model vs current champion by F1 and update alias if better\n",
    "from mlflow.tracking import MlflowClient\n",
    "\n",
    "client = MlflowClient()\n",
    "model_name = CFG.registered_model\n",
    "champion_alias = \"champion\"\n",
    "\n",
    "# Helper: get metric value for a model version (f1_val prioritized, fallback to f1_test)\n",
    "def _get_model_version_f1(model_name: str, version: str) -> float:\n",
    "    mv = client.get_model_version(model_name, version)\n",
    "    run = client.get_run(mv.run_id)\n",
    "    data = run.data\n",
    "    metrics = dict(data.metrics)\n",
    "    # Prefer validation F1; fallback to test\n",
    "    return float(metrics.get(\"f1_val\", metrics.get(\"f1_test\", float(\"nan\"))))\n",
    "\n",
    "# Resolve current champion version (if any)\n",
    "champion_version = None\n",
    "try:\n",
    "    aliases = client.get_model_version_by_alias(model_name, champion_alias)\n",
    "    champion_version = aliases.version\n",
    "except Exception:\n",
    "    pass\n",
    "\n",
    "# Get latest created version\n",
    "latest_versions = client.get_latest_versions(model_name)\n",
    "latest_version = None\n",
    "if latest_versions:\n",
    "    # Choose the numerically greatest version as \"latest\"\n",
    "    latest_version = sorted(latest_versions, key=lambda mv: int(mv.version))[-1].version\n",
    "\n",
    "if latest_version is None:\n",
    "    raise RuntimeError(\"No registered versions found for model. Ensure previous cell registered the model.\")\n",
    "\n",
    "latest_f1 = _get_model_version_f1(model_name, latest_version)\n",
    "print(f\"Latest version {latest_version} F1: {latest_f1}\")\n",
    "\n",
    "champion_f1 = None\n",
    "if champion_version is not None:\n",
    "    champion_f1 = _get_model_version_f1(model_name, champion_version)\n",
    "    print(f\"Current champion version {champion_version} F1: {champion_f1}\")\n",
    "else:\n",
    "    print(\"No current champion alias set.\")\n",
    "\n",
    "should_promote = champion_f1 is None or (\n",
    "    np.isfinite(latest_f1) and np.isfinite(champion_f1) and latest_f1 > champion_f1\n",
    ")\n",
    "\n",
    "if should_promote:\n",
    "    # Point the champion alias to the latest version\n",
    "    client.set_model_version_tag(model_name, latest_version, key=\"promoted_at\", value=str(pd.Timestamp.utcnow()))\n",
    "    client.set_registered_model_alias(model_name, champion_alias, latest_version)\n",
    "    print(f\"Promoted version {latest_version} to alias '{champion_alias}'.\")\n",
    "else:\n",
    "    print(\"No promotion performed; champion F1 is greater or equal.\")\n",
    "\n"
   ]
  }
 ],
 "metadata": {
  "application/vnd.databricks.v1+notebook": {
   "computePreferences": {
    "hardware": {
     "accelerator": null,
     "gpuPoolId": null,
     "memory": null
    }
   },
   "dashboards": [],
   "environmentMetadata": {
    "base_environment": "",
    "dependencies": [
     "databricks-feature-engineering"
    ],
    "environment_version": "4"
   },
   "inputWidgetPreferences": null,
   "language": "python",
   "notebookMetadata": {
    "pythonIndentUnit": 4
   },
   "notebookName": "2. Model Training",
   "widgets": {
    "catalog": {
     "currentValue": "workspace",
     "nuid": "dc4b55ad-50fd-42d2-b8fd-d2ca0e398ef8",
     "typedWidgetInfo": {
      "autoCreated": false,
      "defaultValue": "",
      "label": "",
      "name": "catalog",
      "options": {
       "validationRegex": null,
       "widgetDisplayType": "Text"
      },
      "parameterDataType": "String"
     },
     "widgetInfo": {
      "defaultValue": "",
      "label": "",
      "name": "catalog",
      "options": {
       "autoCreated": false,
       "validationRegex": null,
       "widgetType": "text"
      },
      "widgetType": "text"
     }
    },
    "dataset": {
     "currentValue": "iris_species",
     "nuid": "47085ec4-dda5-4603-b1cd-9f951ae1f34d",
     "typedWidgetInfo": {
      "autoCreated": false,
      "defaultValue": "",
      "label": "",
      "name": "dataset",
      "options": {
       "validationRegex": null,
       "widgetDisplayType": "Text"
      },
      "parameterDataType": "String"
     },
     "widgetInfo": {
      "defaultValue": "",
      "label": "",
      "name": "dataset",
      "options": {
       "autoCreated": false,
       "validationRegex": null,
       "widgetType": "text"
      },
      "widgetType": "text"
     }
    },
    "schema": {
     "currentValue": "iris",
     "nuid": "536ed255-efb5-44d1-8223-4bca3fe814cb",
     "typedWidgetInfo": {
      "autoCreated": false,
      "defaultValue": "",
      "label": "",
      "name": "schema",
      "options": {
       "validationRegex": null,
       "widgetDisplayType": "Text"
      },
      "parameterDataType": "String"
     },
     "widgetInfo": {
      "defaultValue": "",
      "label": "",
      "name": "schema",
      "options": {
       "autoCreated": false,
       "validationRegex": null,
       "widgetType": "text"
      },
      "widgetType": "text"
     }
    }
   }
  },
  "language_info": {
   "name": "python"
  }
 },
 "nbformat": 4,
 "nbformat_minor": 0
}
