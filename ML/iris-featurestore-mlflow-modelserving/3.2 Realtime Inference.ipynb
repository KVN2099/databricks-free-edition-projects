{
 "cells": [
  {
   "cell_type": "code",
   "execution_count": 0,
   "metadata": {
    "application/vnd.databricks.v1+cell": {
     "cellMetadata": {
      "byteLimit": 2048000,
      "rowLimit": 10000
     },
     "inputWidgets": {},
     "nuid": "6dd9142b-3f8c-44eb-b288-29269e5ae76a",
     "showTitle": false,
     "tableResultSettingsMap": {},
     "title": ""
    }
   },
   "outputs": [],
   "source": [
    "catalog = dbutils.widgets.get(\"catalog\")\n",
    "schema = dbutils.widgets.get(\"schema\")\n",
    "dataset = dbutils.widgets.get(\"dataset\")\n",
    "\n",
    "model_name = dbutils.widgets.get(\"model_name\")\n",
    "production_alias = dbutils.widgets.get(\"production_alias\")\n",
    "\n",
    "endpoint_name = dbutils.widgets.get(\"endpoint_name\")\n",
    "\n",
    "dataset_path = f\"{catalog}.{schema}.{dataset}\"\n",
    "model_path = f\"{catalog}.{schema}.{model_name}\"\n",
    "print(f\"Iris Dataset Path: {dataset_path}\")\n",
    "print(f\"Iris Model Path: {model_path}\")"
   ]
  },
  {
   "cell_type": "code",
   "execution_count": 0,
   "metadata": {
    "application/vnd.databricks.v1+cell": {
     "cellMetadata": {
      "byteLimit": 2048000,
      "rowLimit": 10000
     },
     "inputWidgets": {},
     "nuid": "8a60e813-437f-4858-b446-7779e08214b9",
     "showTitle": false,
     "tableResultSettingsMap": {},
     "title": ""
    }
   },
   "outputs": [],
   "source": [
    "import mlflow\n",
    "from mlflow.deployments import get_deploy_client\n",
    "from databricks.sdk import WorkspaceClient\n",
    "\n",
    "w = WorkspaceClient()\n",
    "\n",
    "mlflow.set_registry_uri(\"databricks-uc\")\n",
    "client = get_deploy_client(\"databricks\")\n",
    "\n",
    "try:\n",
    "    endpoint = client.create_endpoint(\n",
    "    name=f\"{endpoint_name}\",\n",
    "    config={\n",
    "        \"served_entities\": [\n",
    "            {\n",
    "                \"entity_name\": f\"{catalog}.{schema}.{model_name}\",\n",
    "                \"entity_version\": \"1\",\n",
    "                \"workload_size\": \"Small\",\n",
    "                \"scale_to_zero_enabled\": True\n",
    "            }\n",
    "        ],\n",
    "        \"traffic_config\": {\n",
    "            \"routes\": [\n",
    "                {\n",
    "                    \"served_model_name\": f\"{model_name}-1\",\n",
    "                    \"traffic_percentage\": 100\n",
    "                }\n",
    "            ]\n",
    "        }\n",
    "    }\n",
    "    )\n",
    "except Exception:\n",
    "    print(\"Endpoint already exists\")"
   ]
  },
  {
   "cell_type": "code",
   "execution_count": 0,
   "metadata": {
    "application/vnd.databricks.v1+cell": {
     "cellMetadata": {
      "byteLimit": 2048000,
      "rowLimit": 10000
     },
     "inputWidgets": {},
     "nuid": "f67487fc-b7c4-496b-9749-13ea494b889f",
     "showTitle": false,
     "tableResultSettingsMap": {},
     "title": ""
    }
   },
   "outputs": [],
   "source": [
    "import json\n",
    "import pandas as pd\n",
    "\n",
    "# Prepare a sample Iris row (sepal_length, sepal_width, petal_length, petal_width)\n",
    "sample = pd.DataFrame([\n",
    "    {\"sepal_length\": 5.1, \"sepal_width\": 3.5, \"petal_length\": 1.4, \"petal_width\": 0.2}\n",
    "])\n",
    "\n",
    "# Invoke endpoint\n",
    "# \"inputs\" payload supports 'dataframe_records' for pandas-style records\n",
    "payload = {\n",
    "    \"inputs\": [\n",
    "        {\n",
    "            \"name\": \"inputs\",\n",
    "            \"shape\": [len(sample), len(sample.columns)],\n",
    "            \"datatype\": \"FP32\",\n",
    "            \"dataframe_records\": sample.to_dict(orient=\"records\")\n",
    "        }\n",
    "    ]\n",
    "}\n",
    "\n",
    "invocation = w.serving_endpoints.query(name=endpoint_name, dataframe_records=payload[\"inputs\"][0][\"dataframe_records\"])  # type: ignore\n",
    "\n",
    "# Best-effort parse of common MLflow serving output formats\n",
    "try:\n",
    "    # Newer SDKs return structured QueryEndpointResponse\n",
    "    preds = getattr(invocation, \"predictions\", None)\n",
    "    if preds is None and isinstance(invocation, dict):\n",
    "        preds = invocation.get(\"predictions\")\n",
    "    print(\"Predictions:\", preds[0])\n",
    "except Exception as e:\n",
    "    print(\"Could not parse predictions:\", e)\n",
    "    print(invocation)\n"
   ]
  }
 ],
 "metadata": {
  "application/vnd.databricks.v1+notebook": {
   "computePreferences": null,
   "dashboards": [],
   "environmentMetadata": {
    "base_environment": "",
    "environment_version": "4"
   },
   "inputWidgetPreferences": null,
   "language": "python",
   "notebookMetadata": {
    "pythonIndentUnit": 4
   },
   "notebookName": "3.2 Realtime Inference",
   "widgets": {
    "catalog": {
     "currentValue": "workspace",
     "nuid": "9d3a0f68-e9d6-4d0c-8bd4-d9743277d48e",
     "typedWidgetInfo": {
      "autoCreated": false,
      "defaultValue": "",
      "label": "",
      "name": "catalog",
      "options": {
       "widgetDisplayType": "Text",
       "validationRegex": null
      },
      "parameterDataType": "String"
     },
     "widgetInfo": {
      "widgetType": "text",
      "defaultValue": "",
      "label": "",
      "name": "catalog",
      "options": {
       "widgetType": "text",
       "autoCreated": false,
       "validationRegex": null
      }
     }
    },
    "dataset": {
     "currentValue": "iris_species",
     "nuid": "09ee1bf6-1bc7-44ec-b80b-e8d41ffe68af",
     "typedWidgetInfo": {
      "autoCreated": false,
      "defaultValue": "",
      "label": "",
      "name": "dataset",
      "options": {
       "widgetDisplayType": "Text",
       "validationRegex": null
      },
      "parameterDataType": "String"
     },
     "widgetInfo": {
      "widgetType": "text",
      "defaultValue": "",
      "label": "",
      "name": "dataset",
      "options": {
       "widgetType": "text",
       "autoCreated": false,
       "validationRegex": null
      }
     }
    },
    "endpoint_name": {
     "currentValue": "iris_endpoint",
     "nuid": "67034039-7013-407b-8392-2f18cd22dda1",
     "typedWidgetInfo": {
      "autoCreated": false,
      "defaultValue": "",
      "label": "",
      "name": "endpoint_name",
      "options": {
       "widgetDisplayType": "Text",
       "validationRegex": null
      },
      "parameterDataType": "String"
     },
     "widgetInfo": {
      "widgetType": "text",
      "defaultValue": "",
      "label": "",
      "name": "endpoint_name",
      "options": {
       "widgetType": "text",
       "autoCreated": false,
       "validationRegex": null
      }
     }
    },
    "model_name": {
     "currentValue": "iris_rf_classifier",
     "nuid": "5829b7a6-44f9-4106-a055-2618c565ad0c",
     "typedWidgetInfo": {
      "autoCreated": false,
      "defaultValue": "",
      "label": "",
      "name": "model_name",
      "options": {
       "widgetDisplayType": "Text",
       "validationRegex": null
      },
      "parameterDataType": "String"
     },
     "widgetInfo": {
      "widgetType": "text",
      "defaultValue": "",
      "label": "",
      "name": "model_name",
      "options": {
       "widgetType": "text",
       "autoCreated": false,
       "validationRegex": null
      }
     }
    },
    "production_alias": {
     "currentValue": "champion",
     "nuid": "ef9e72a4-8b09-45f7-9aff-53e144794682",
     "typedWidgetInfo": {
      "autoCreated": false,
      "defaultValue": "",
      "label": "",
      "name": "production_alias",
      "options": {
       "widgetDisplayType": "Text",
       "validationRegex": null
      },
      "parameterDataType": "String"
     },
     "widgetInfo": {
      "widgetType": "text",
      "defaultValue": "",
      "label": "",
      "name": "production_alias",
      "options": {
       "widgetType": "text",
       "autoCreated": false,
       "validationRegex": null
      }
     }
    },
    "schema": {
     "currentValue": "iris",
     "nuid": "e05668b5-a741-4936-bd48-dcbbfaeb1c0c",
     "typedWidgetInfo": {
      "autoCreated": false,
      "defaultValue": "",
      "label": "",
      "name": "schema",
      "options": {
       "widgetDisplayType": "Text",
       "validationRegex": null
      },
      "parameterDataType": "String"
     },
     "widgetInfo": {
      "widgetType": "text",
      "defaultValue": "",
      "label": "",
      "name": "schema",
      "options": {
       "widgetType": "text",
       "autoCreated": false,
       "validationRegex": null
      }
     }
    }
   }
  },
  "language_info": {
   "name": "python"
  }
 },
 "nbformat": 4,
 "nbformat_minor": 0
}
