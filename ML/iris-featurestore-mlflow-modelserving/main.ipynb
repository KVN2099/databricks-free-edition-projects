{
 "cells": [
  {
   "cell_type": "code",
   "execution_count": null,
   "id": "96a29136",
   "metadata": {},
   "outputs": [],
   "source": [
    "catalog = dbutils.widgets.get(\"catalog\")\n",
    "schema = dbutils.widgets.get(\"schema\")\n",
    "dataset = dbutils.widgets.get(\"dataset\")\n",
    "\n",
    "path = f\"{catalog}.{schema}.{dataset}\"\n",
    "print(f\"Iris Dataset Path: {path}\")\n",
    "\n",
    "kaggle_dataset_id = dbutils.widgets.get(\"kaggle_dataset_id\")\n",
    "kaggle_dataset_path = dbutils.widgets.get(\"kaggle_dataset_path\")"
   ]
  },
  {
   "cell_type": "code",
   "execution_count": null,
   "id": "4c15c879",
   "metadata": {},
   "outputs": [],
   "source": [
    "from pyspark.sql import SparkSession\n",
    "from common.import_kaggle_dataset import KaggleDatasetImporter\n",
    "\n",
    "spark = SparkSession.builder.getOrCreate()\n",
    "\n",
    "importer = KaggleDatasetImporter(spark)  # enable_change_data_feed=True by default\n",
    "df = importer.import_to_delta(\n",
    "    kaggle_dataset_id=kaggle_dataset_id,\n",
    "    kaggle_dataset_path=kaggle_dataset_path,\n",
    "    table_name=path,\n",
    "    mode=\"overwrite\"\n",
    ")"
   ]
  },
  {
   "cell_type": "code",
   "execution_count": null,
   "id": "355797f5",
   "metadata": {},
   "outputs": [],
   "source": [
    "spark.sql(f\"ALTER TABLE {path} ADD CONSTRAINT {path}_pk PRIMARY KEY(id);\")"
   ]
  }
 ],
 "metadata": {
  "kernelspec": {
   "display_name": "Python 3",
   "language": "python",
   "name": "python3"
  },
  "language_info": {
   "name": "python",
   "version": "3.12.4"
  }
 },
 "nbformat": 4,
 "nbformat_minor": 5
}
